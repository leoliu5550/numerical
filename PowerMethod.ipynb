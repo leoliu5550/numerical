{
 "cells": [
  {
   "cell_type": "code",
   "execution_count": 1,
   "id": "c31cd5e6",
   "metadata": {},
   "outputs": [],
   "source": [
    "import numpy as np\n",
    "import copy\n",
    "import matplotlib.pyplot as plt\n",
    "from matplotlib.ticker import MultipleLocator\n",
    "\n",
    "%matplotlib inline"
   ]
  },
  {
   "cell_type": "markdown",
   "id": "211b805a",
   "metadata": {},
   "source": [
    "# Hyperparamete"
   ]
  },
  {
   "cell_type": "code",
   "execution_count": 10,
   "id": "a077c6bb",
   "metadata": {},
   "outputs": [],
   "source": [
    "N = 1000\n",
    "size = 10\n",
    "TOL = 1e-6\n",
    "Total_loss = []"
   ]
  },
  {
   "cell_type": "markdown",
   "id": "25e8ba5f",
   "metadata": {},
   "source": [
    "# Create Data"
   ]
  },
  {
   "cell_type": "code",
   "execution_count": 11,
   "id": "058f7204",
   "metadata": {},
   "outputs": [],
   "source": [
    "def create_data(size):\n",
    "    A_matrix = np.zeros((size,size))\n",
    "    for i in range(size):\n",
    "        for j in range(size):\n",
    "            if i == j:\n",
    "                A_matrix[i][j] = 2*(i+1)\n",
    "            if j == (i+1) or j == (i-1):\n",
    "                A_matrix[i][j] = -1\n",
    "  \n",
    "    B_vector = np.array([1.5*i-6 for i in range(size)])\n",
    "                \n",
    "    return A_matrix,B_vector"
   ]
  },
  {
   "cell_type": "code",
   "execution_count": 14,
   "id": "0b3e4cb1",
   "metadata": {},
   "outputs": [],
   "source": [
    "def escape(old_x,new_x,TOL):\n",
    "    if np.max(np.abs(old_x - new_x)) < TOL:\n",
    "        return True,np.max(np.abs(old_x - new_x))\n",
    "    return False,np.max(np.abs(old_x - new_x))"
   ]
  },
  {
   "cell_type": "code",
   "execution_count": 15,
   "id": "44fce9c7",
   "metadata": {},
   "outputs": [],
   "source": [
    "def draw(loss,title=None):\n",
    "    \n",
    "    ite = [i for i in range(1,len(loss)+1,1)]\n",
    "    fig = plt.figure(figsize = (15,8))\n",
    "    ax = fig.add_subplot(111)\n",
    "    if title is not None:\n",
    "        ax.set_title(title)\n",
    "    ax.xaxis.set_major_locator(MultipleLocator(1))\n",
    "#     ax.yaxis.set_major_locator(MultipleLocator(0.1))\n",
    "\n",
    "    ax.plot(ite,loss,lw = 1,label = title)\n",
    "        \n",
    "    ax.grid(linestyle=\"--\",linewidth = 0.5,zorder = 0)#pair0\n",
    "    ax.legend()"
   ]
  },
  {
   "cell_type": "markdown",
   "id": "df3920c9",
   "metadata": {},
   "source": [
    "# Power Method"
   ]
  },
  {
   "cell_type": "markdown",
   "id": "b59e8394",
   "metadata": {},
   "source": [
    "# Power Method with Aitkem's      $\\triangle^{2}$ accerelation"
   ]
  },
  {
   "cell_type": "markdown",
   "id": "ae554cfc",
   "metadata": {},
   "source": [
    "# Inverse Power Method"
   ]
  },
  {
   "cell_type": "code",
   "execution_count": null,
   "id": "e4ae4677",
   "metadata": {},
   "outputs": [],
   "source": []
  }
 ],
 "metadata": {
  "kernelspec": {
   "display_name": "Python 3 (ipykernel)",
   "language": "python",
   "name": "python3"
  },
  "language_info": {
   "codemirror_mode": {
    "name": "ipython",
    "version": 3
   },
   "file_extension": ".py",
   "mimetype": "text/x-python",
   "name": "python",
   "nbconvert_exporter": "python",
   "pygments_lexer": "ipython3",
   "version": "3.9.10"
  },
  "toc": {
   "base_numbering": 1,
   "nav_menu": {},
   "number_sections": true,
   "sideBar": true,
   "skip_h1_title": false,
   "title_cell": "Table of Contents",
   "title_sidebar": "Contents",
   "toc_cell": false,
   "toc_position": {},
   "toc_section_display": true,
   "toc_window_display": false
  }
 },
 "nbformat": 4,
 "nbformat_minor": 5
}

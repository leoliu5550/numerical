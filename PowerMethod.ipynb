{
 "cells": [
  {
   "cell_type": "code",
   "execution_count": 3,
   "id": "c31cd5e6",
   "metadata": {},
   "outputs": [],
   "source": [
    "import numpy as np\n",
    "import copy\n",
    "import matplotlib.pyplot as plt\n",
    "from matplotlib.ticker import MultipleLocator\n",
    "\n",
    "%matplotlib inline"
   ]
  },
  {
   "cell_type": "markdown",
   "id": "211b805a",
   "metadata": {},
   "source": [
    "# Hyperparamete"
   ]
  },
  {
   "cell_type": "code",
   "execution_count": 42,
   "id": "a077c6bb",
   "metadata": {},
   "outputs": [],
   "source": [
    "N = 1000\n",
    "# size = 10\n",
    "TOL = 1e-6\n",
    "Total_loss = []"
   ]
  },
  {
   "cell_type": "markdown",
   "id": "25e8ba5f",
   "metadata": {},
   "source": [
    "# Create Data"
   ]
  },
  {
   "cell_type": "code",
   "execution_count": 141,
   "id": "058f7204",
   "metadata": {},
   "outputs": [],
   "source": [
    "Matrix = np.array([\n",
    "    [4,1,1,1],\n",
    "    [1,3,-1,1],\n",
    "    [1,-1,2,0],\n",
    "    [1,1,0,2]\n",
    "])\n",
    "init_x = np.array([1,-2,0,3])\n",
    "\n",
    "test_m = np.array([[2, 1], [1, 2]])\n",
    "test_x = np.array([1,2])"
   ]
  },
  {
   "cell_type": "code",
   "execution_count": 142,
   "id": "0b3e4cb1",
   "metadata": {},
   "outputs": [],
   "source": [
    "def escape(old_x,new_x,TOL):\n",
    "    if np.max(np.abs(old_x - new_x)) < TOL:\n",
    "        return True,np.max(np.abs(old_x - new_x))\n",
    "    return False,np.max(np.abs(old_x - new_x))"
   ]
  },
  {
   "cell_type": "code",
   "execution_count": 143,
   "id": "e94c2b98",
   "metadata": {},
   "outputs": [],
   "source": [
    "def get_smallest_indx(input_x):\n",
    "    res = 0\n",
    "    input_x = np.abs(input_x)\n",
    "    \n",
    "    for i,val in enumerate(input_x):\n",
    "        \n",
    "        if input_x[res] < input_x[i]:\n",
    "            res = i\n",
    "    return res\n",
    "        "
   ]
  },
  {
   "cell_type": "markdown",
   "id": "df3920c9",
   "metadata": {},
   "source": [
    "# Power Method"
   ]
  },
  {
   "cell_type": "code",
   "execution_count": 145,
   "id": "f112e018",
   "metadata": {},
   "outputs": [],
   "source": [
    "def power_method(matrix,x,test=False):\n",
    "    k = 1\n",
    "    p = get_smallest(x)\n",
    "    x = x/x[p]\n",
    "\n",
    "    while k < N:\n",
    "        k+=1\n",
    "        y = np.dot(matrix,x)\n",
    "        u = y[p]\n",
    "        if test:\n",
    "            print(u)\n",
    "        p = get_smallest(y)\n",
    "        ans = y/y[p]\n",
    "        if y[p] == 0:\n",
    "            break\n",
    "        else:\n",
    "            err = escape(x,ans,TOL)\n",
    "            x = ans\n",
    "            if err[0]:\n",
    "                break\n",
    "    return u,x,k\n"
   ]
  },
  {
   "cell_type": "code",
   "execution_count": 157,
   "id": "c0f4029a",
   "metadata": {
    "scrolled": true
   },
   "outputs": [
    {
     "data": {
      "text/plain": [
       "(5.236066281134191,\n",
       " array([1.        , 0.61803237, 0.11803508, 0.49999936]),\n",
       " 38)"
      ]
     },
     "execution_count": 157,
     "metadata": {},
     "output_type": "execute_result"
    }
   ],
   "source": [
    "power_method(Matrix,init_x,test=False)"
   ]
  },
  {
   "cell_type": "code",
   "execution_count": 158,
   "id": "ebc330ef",
   "metadata": {},
   "outputs": [
    {
     "data": {
      "text/plain": [
       "(5.23606621558885, array([1.        , 0.61803231, 0.11803512, 0.49999934]), 32)"
      ]
     },
     "execution_count": 158,
     "metadata": {},
     "output_type": "execute_result"
    }
   ],
   "source": [
    "power_method(Matrix,np.array([1,1,1,1]),test=False)"
   ]
  },
  {
   "cell_type": "code",
   "execution_count": 159,
   "id": "12ef1c6a",
   "metadata": {},
   "outputs": [
    {
     "data": {
      "text/plain": [
       "(5.23606621558885, array([1.        , 0.61803231, 0.11803512, 0.49999934]), 32)"
      ]
     },
     "execution_count": 159,
     "metadata": {},
     "output_type": "execute_result"
    }
   ],
   "source": [
    "power_method(Matrix,np.array([0.1,0.1,0.1,0.1]),test=False)"
   ]
  },
  {
   "cell_type": "code",
   "execution_count": 160,
   "id": "ed4dda7b",
   "metadata": {},
   "outputs": [
    {
     "data": {
      "text/plain": [
       "(5.236070018539485,\n",
       " array([1.        , 0.61803594, 0.11803268, 0.50000077]),\n",
       " 37)"
      ]
     },
     "execution_count": 160,
     "metadata": {},
     "output_type": "execute_result"
    }
   ],
   "source": [
    "power_method(Matrix,np.array([100,500,-100,100]),test=False)"
   ]
  },
  {
   "cell_type": "code",
   "execution_count": 161,
   "id": "ca3b0c17",
   "metadata": {},
   "outputs": [
    {
     "data": {
      "text/plain": [
       "(5.236065904599858,\n",
       " array([1.        , 0.61803201, 0.11803532, 0.49999922]),\n",
       " 35)"
      ]
     },
     "execution_count": 161,
     "metadata": {},
     "output_type": "execute_result"
    }
   ],
   "source": [
    "power_method(Matrix,np.array([1000,-5,0.5,30]),test=False)"
   ]
  },
  {
   "cell_type": "markdown",
   "id": "b59e8394",
   "metadata": {},
   "source": [
    "# Power Method with Aitkem's      $\\triangle^{2}$ accerelation"
   ]
  },
  {
   "cell_type": "code",
   "execution_count": 131,
   "id": "dd49bdd3",
   "metadata": {},
   "outputs": [],
   "source": [
    "def power_accer_method(matrix,x,test=False):\n",
    "    \n",
    "    k = 1\n",
    "    u0 = 0\n",
    "    u1 = 1\n",
    "    p = get_smallest(x)\n",
    "    x = x/x[p]\n",
    "    u_list = []\n",
    "    while k < N:\n",
    "        k+=1\n",
    "        y = np.dot(matrix,x)\n",
    "        u = y[p]\n",
    "        u_list.append(u0 - ((u1-u0)**(2))/(u - 2*u1 + u0))\n",
    "        if test:\n",
    "            print(u_list[-1])\n",
    "        p = get_smallest(y)\n",
    "        \n",
    "        ans = y/y[p]\n",
    "        if y[p] == 0:\n",
    "            break\n",
    "        else:\n",
    "            err = escape(x,ans,TOL)\n",
    "            x = ans\n",
    "\n",
    "            if err[0]:\n",
    "                break\n",
    "        u0 = u1\n",
    "        u1 = u\n",
    "    return u,x,k,u_list[-1]"
   ]
  },
  {
   "cell_type": "code",
   "execution_count": 156,
   "id": "becf1986",
   "metadata": {
    "scrolled": true
   },
   "outputs": [
    {
     "data": {
      "text/plain": [
       "(5.236066281134191,\n",
       " array([1.        , 0.61803237, 0.11803508, 0.49999936]),\n",
       " 38,\n",
       " 5.236067977503511)"
      ]
     },
     "execution_count": 156,
     "metadata": {},
     "output_type": "execute_result"
    }
   ],
   "source": [
    "power_accer_method(Matrix,init_x,test=False)"
   ]
  },
  {
   "cell_type": "code",
   "execution_count": 163,
   "id": "49484565",
   "metadata": {},
   "outputs": [
    {
     "data": {
      "text/plain": [
       "(5.23606621558885,\n",
       " array([1.        , 0.61803231, 0.11803512, 0.49999934]),\n",
       " 32,\n",
       " 5.236067977503809)"
      ]
     },
     "execution_count": 163,
     "metadata": {},
     "output_type": "execute_result"
    }
   ],
   "source": [
    "power_accer_method(Matrix,np.array([1,1,1,1]),test=False)"
   ]
  },
  {
   "cell_type": "code",
   "execution_count": 164,
   "id": "0b7d5817",
   "metadata": {},
   "outputs": [
    {
     "data": {
      "text/plain": [
       "(5.23606621558885,\n",
       " array([1.        , 0.61803231, 0.11803512, 0.49999934]),\n",
       " 32,\n",
       " 5.236067977503809)"
      ]
     },
     "execution_count": 164,
     "metadata": {},
     "output_type": "execute_result"
    }
   ],
   "source": [
    "power_accer_method(Matrix,np.array([0.1,0.1,0.1,0.1]),test=False)"
   ]
  },
  {
   "cell_type": "code",
   "execution_count": 165,
   "id": "74f36614",
   "metadata": {
    "scrolled": true
   },
   "outputs": [
    {
     "data": {
      "text/plain": [
       "(5.236070018539485,\n",
       " array([1.        , 0.61803594, 0.11803268, 0.50000077]),\n",
       " 37,\n",
       " 5.236067977505196)"
      ]
     },
     "execution_count": 165,
     "metadata": {},
     "output_type": "execute_result"
    }
   ],
   "source": [
    "power_accer_method(Matrix,np.array([100,500,-100,100]),test=False)"
   ]
  },
  {
   "cell_type": "code",
   "execution_count": 166,
   "id": "691f09df",
   "metadata": {},
   "outputs": [
    {
     "data": {
      "text/plain": [
       "(5.236065904599858,\n",
       " array([1.        , 0.61803201, 0.11803532, 0.49999922]),\n",
       " 35,\n",
       " 5.236067977505342)"
      ]
     },
     "execution_count": 166,
     "metadata": {},
     "output_type": "execute_result"
    }
   ],
   "source": [
    "power_accer_method(Matrix,np.array([1000,-5,0.5,30]),test=False)"
   ]
  },
  {
   "cell_type": "markdown",
   "id": "6208b7cf",
   "metadata": {},
   "source": [
    "# Other Test"
   ]
  },
  {
   "cell_type": "code",
   "execution_count": 155,
   "id": "0eae6637",
   "metadata": {},
   "outputs": [],
   "source": [
    "test_m = np.array([[2, 1], [1, 2]])\n",
    "test_x = np.array([1,2])\n",
    "\n",
    "ans = power_accer_method(test_m,test_x,test=False)"
   ]
  },
  {
   "cell_type": "code",
   "execution_count": 135,
   "id": "ba281fe3",
   "metadata": {
    "scrolled": true
   },
   "outputs": [
    {
     "name": "stdout",
     "output_type": "stream",
     "text": [
      "1.2544501619693449e-06\n",
      "-7.0810024510592484e-12\n",
      "True\n"
     ]
    }
   ],
   "source": [
    "print(3-ans[0])\n",
    "print(3-ans[-1])\n",
    "print(np.abs(3-ans[0]) > np.abs(3-ans[-1]))"
   ]
  },
  {
   "cell_type": "code",
   "execution_count": 139,
   "id": "f1827b2f",
   "metadata": {},
   "outputs": [],
   "source": [
    "test_m2 = np.array([[0,1,0], [0,0,1],[4,-17,8]])\n",
    "test_x2 = np.array([1,2,3])\n",
    "ans = power_accer_method(test_m2,test_x2,test=False)"
   ]
  },
  {
   "cell_type": "code",
   "execution_count": 140,
   "id": "7415920a",
   "metadata": {},
   "outputs": [
    {
     "name": "stdout",
     "output_type": "stream",
     "text": [
      "-0.0002221451135362429\n",
      "-2.112157631017908e-07\n",
      "True\n"
     ]
    }
   ],
   "source": [
    "print(4-ans[0])\n",
    "print(4-ans[-1])\n",
    "print(np.abs(4-ans[0]) > np.abs(4-ans[-1]))"
   ]
  },
  {
   "cell_type": "code",
   "execution_count": null,
   "id": "580d8387",
   "metadata": {},
   "outputs": [],
   "source": []
  }
 ],
 "metadata": {
  "kernelspec": {
   "display_name": "Python 3 (ipykernel)",
   "language": "python",
   "name": "python3"
  },
  "language_info": {
   "codemirror_mode": {
    "name": "ipython",
    "version": 3
   },
   "file_extension": ".py",
   "mimetype": "text/x-python",
   "name": "python",
   "nbconvert_exporter": "python",
   "pygments_lexer": "ipython3",
   "version": "3.9.16"
  },
  "toc": {
   "base_numbering": 1,
   "nav_menu": {},
   "number_sections": true,
   "sideBar": true,
   "skip_h1_title": false,
   "title_cell": "Table of Contents",
   "title_sidebar": "Contents",
   "toc_cell": false,
   "toc_position": {},
   "toc_section_display": true,
   "toc_window_display": false
  }
 },
 "nbformat": 4,
 "nbformat_minor": 5
}

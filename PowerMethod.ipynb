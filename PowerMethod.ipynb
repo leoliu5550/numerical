{
 "cells": [
  {
   "cell_type": "code",
   "execution_count": 1,
   "id": "c31cd5e6",
   "metadata": {},
   "outputs": [],
   "source": [
    "import numpy as np\n",
    "import copy\n",
    "import matplotlib.pyplot as plt\n",
    "from matplotlib.ticker import MultipleLocator\n",
    "\n",
    "%matplotlib inline"
   ]
  },
  {
   "cell_type": "markdown",
   "id": "211b805a",
   "metadata": {},
   "source": [
    "# Hyperparamete"
   ]
  },
  {
   "cell_type": "code",
   "execution_count": 55,
   "id": "a077c6bb",
   "metadata": {},
   "outputs": [],
   "source": [
    "N = 1000\n",
    "# size = 10\n",
    "TOL = 1e-6\n",
    "Total_loss = []"
   ]
  },
  {
   "cell_type": "markdown",
   "id": "25e8ba5f",
   "metadata": {},
   "source": [
    "# Create Data"
   ]
  },
  {
   "cell_type": "code",
   "execution_count": 58,
   "id": "058f7204",
   "metadata": {},
   "outputs": [],
   "source": [
    "Matrix = np.array([\n",
    "    [4,1,1,1],\n",
    "    [1,3,-1,1],\n",
    "    [1,-1,2,0],\n",
    "    [1,1,0,2]\n",
    "])\n",
    "init_x = np.array([1,-2,0,3])\n",
    "\n",
    "test_m = np.array([[2, 1], [1, 2]])\n",
    "test_x = np.array([1,2])"
   ]
  },
  {
   "cell_type": "code",
   "execution_count": 46,
   "id": "e94c2b98",
   "metadata": {},
   "outputs": [],
   "source": [
    "def get_smallest(input_x):\n",
    "    res = 0\n",
    "    input_x = np.abs(input_x)\n",
    "    \n",
    "    for i,val in enumerate(input_x):\n",
    "        \n",
    "        if input_x[res] < input_x[i]:\n",
    "            res = i\n",
    "    return res\n",
    "        "
   ]
  },
  {
   "cell_type": "code",
   "execution_count": 47,
   "id": "0b3e4cb1",
   "metadata": {},
   "outputs": [],
   "source": [
    "def escape(old_x,new_x,TOL):\n",
    "    if np.max(np.abs(old_x - new_x)) < TOL:\n",
    "        return True,np.max(np.abs(old_x - new_x))\n",
    "    return False,np.max(np.abs(old_x - new_x))"
   ]
  },
  {
   "cell_type": "code",
   "execution_count": 48,
   "id": "44fce9c7",
   "metadata": {},
   "outputs": [],
   "source": [
    "def draw(loss,title=None):\n",
    "    \n",
    "    ite = [i for i in range(1,len(loss)+1,1)]\n",
    "    fig = plt.figure(figsize = (15,8))\n",
    "    ax = fig.add_subplot(111)\n",
    "    if title is not None:\n",
    "        ax.set_title(title)\n",
    "    ax.xaxis.set_major_locator(MultipleLocator(1))\n",
    "#     ax.yaxis.set_major_locator(MultipleLocator(0.1))\n",
    "\n",
    "    ax.plot(ite,loss,lw = 1,label = title)\n",
    "        \n",
    "    ax.grid(linestyle=\"--\",linewidth = 0.5,zorder = 0)#pair0\n",
    "    ax.legend()"
   ]
  },
  {
   "cell_type": "markdown",
   "id": "df3920c9",
   "metadata": {},
   "source": [
    "# Power Method"
   ]
  },
  {
   "cell_type": "code",
   "execution_count": 56,
   "id": "f112e018",
   "metadata": {},
   "outputs": [],
   "source": [
    "def power_method(matrix,x,test=False):\n",
    "    k = 1\n",
    "    p = get_smallest(x)\n",
    "    x = x/x[p]\n",
    "    \n",
    "    while k < N:\n",
    "        k+=1\n",
    "        y = np.dot(matrix,x)\n",
    "        m = y[p]\n",
    "        p = get_smallest(y)\n",
    "        if y[p] == 0:\n",
    "            break\n",
    "        else:\n",
    "            err = escape(x,y/y[p],TOL)\n",
    "            x = y/y[p]\n",
    "            if err[0]:\n",
    "                break\n",
    "    return m,x"
   ]
  },
  {
   "cell_type": "code",
   "execution_count": 59,
   "id": "39d5988e",
   "metadata": {},
   "outputs": [
    {
     "data": {
      "text/plain": [
       "(2.999998745549838, array([0.99999958, 1.        ]))"
      ]
     },
     "execution_count": 59,
     "metadata": {},
     "output_type": "execute_result"
    }
   ],
   "source": [
    "power_method(test_m,test_x,test=False)"
   ]
  },
  {
   "cell_type": "code",
   "execution_count": 57,
   "id": "c0f4029a",
   "metadata": {},
   "outputs": [
    {
     "data": {
      "text/plain": [
       "(5.236066281134191, array([1.        , 0.61803237, 0.11803508, 0.49999936]))"
      ]
     },
     "execution_count": 57,
     "metadata": {},
     "output_type": "execute_result"
    }
   ],
   "source": [
    "power_method(Matrix,init_x,test=False)"
   ]
  },
  {
   "cell_type": "code",
   "execution_count": 60,
   "id": "ba62719f",
   "metadata": {},
   "outputs": [
    {
     "name": "stdout",
     "output_type": "stream",
     "text": [
      "2.9999999535388544\n",
      "[[0.706999  ]\n",
      " [0.70721455]]\n"
     ]
    }
   ],
   "source": [
    "import numpy as np\n",
    "\n",
    "# Define the matrix A\n",
    "A = np.array([[2, 1], [1, 2]])\n",
    "\n",
    "# Choose the initial vector x\n",
    "x = np.array([[1, 2]]).T\n",
    "\n",
    "# Define the tolerance for the eigenvalue\n",
    "# and eigenvector approximations\n",
    "# (i.e. the maximum allowed difference between\n",
    "# the approximations and the actual values)\n",
    "tol = 1e-6\n",
    "\n",
    "# Define the maximum number of iterations\n",
    "max_iter = 100\n",
    "\n",
    "# Define the variable lam_prev to store the\n",
    "# previous approximation for the largest eigenvalue\n",
    "lam_prev = 0\n",
    "\n",
    "# Iteratively improve the approximations\n",
    "# for the largest eigenvalue and eigenvector\n",
    "# using the power method\n",
    "for i in range(max_iter):\n",
    "    # Compute the updated approximation for the eigenvector\n",
    "    x = A @ x / np.linalg.norm(A @ x)\n",
    "\n",
    "    # Compute the updated approximation for the largest eigenvalue\n",
    "    lam = (x.T @ A @ x) / (x.T @ x)\n",
    "\n",
    "    # Check if the approximations have converged\n",
    "    if np.abs(lam - lam_prev) < tol:\n",
    "        break\n",
    "\n",
    "    # Store the current approximation for the largest eigenvalue\n",
    "    lam_prev = lam\n",
    "\n",
    "# Print the approximations for the\n",
    "# largest eigenvalue and eigenvector\n",
    "print(float(lam))\n",
    "print(x)\n"
   ]
  },
  {
   "cell_type": "markdown",
   "id": "b59e8394",
   "metadata": {},
   "source": [
    "# Power Method with Aitkem's      $\\triangle^{2}$ accerelation"
   ]
  },
  {
   "cell_type": "markdown",
   "id": "ae554cfc",
   "metadata": {},
   "source": [
    "# Inverse Power Method"
   ]
  },
  {
   "cell_type": "code",
   "execution_count": null,
   "id": "e4ae4677",
   "metadata": {},
   "outputs": [],
   "source": []
  }
 ],
 "metadata": {
  "kernelspec": {
   "display_name": "Python 3 (ipykernel)",
   "language": "python",
   "name": "python3"
  },
  "language_info": {
   "codemirror_mode": {
    "name": "ipython",
    "version": 3
   },
   "file_extension": ".py",
   "mimetype": "text/x-python",
   "name": "python",
   "nbconvert_exporter": "python",
   "pygments_lexer": "ipython3",
   "version": "3.9.16"
  },
  "toc": {
   "base_numbering": 1,
   "nav_menu": {},
   "number_sections": true,
   "sideBar": true,
   "skip_h1_title": false,
   "title_cell": "Table of Contents",
   "title_sidebar": "Contents",
   "toc_cell": false,
   "toc_position": {},
   "toc_section_display": true,
   "toc_window_display": false
  }
 },
 "nbformat": 4,
 "nbformat_minor": 5
}

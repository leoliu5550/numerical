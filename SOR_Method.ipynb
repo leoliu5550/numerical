{
 "cells": [
  {
   "cell_type": "code",
   "execution_count": 1,
   "id": "5e2f669d",
   "metadata": {},
   "outputs": [],
   "source": [
    "import numpy as np\n",
    "import copy\n",
    "import matplotlib.pyplot as plt\n",
    "from matplotlib.ticker import MultipleLocator\n",
    "\n",
    "%matplotlib inline"
   ]
  },
  {
   "cell_type": "markdown",
   "id": "0173b4a9",
   "metadata": {},
   "source": [
    "# Hyperparamete"
   ]
  },
  {
   "cell_type": "code",
   "execution_count": 2,
   "id": "f30564a8",
   "metadata": {},
   "outputs": [],
   "source": [
    "N = 1000\n",
    "size = 5\n",
    "TOL = 1e-6"
   ]
  },
  {
   "cell_type": "markdown",
   "id": "b098e408",
   "metadata": {},
   "source": [
    "# Create Data"
   ]
  },
  {
   "cell_type": "code",
   "execution_count": 3,
   "id": "1dd3007c",
   "metadata": {},
   "outputs": [],
   "source": [
    "def create_data(size):\n",
    "    A_matrix = np.zeros((size,size))\n",
    "    for i in range(size):\n",
    "        for j in range(size):\n",
    "            if i == j:\n",
    "                A_matrix[i][j] = 2*(i+1)\n",
    "            if j == (i+2) or j == (i-2):\n",
    "                A_matrix[i][j] = 0.5*(i+1)\n",
    "            if j == (i+4) or j == (i-4):\n",
    "                A_matrix[i][j] = 0.25*(i+1)    \n",
    "    B_vector = np.array([np.pi for i in range(size)])\n",
    "                \n",
    "    return A_matrix,B_vector"
   ]
  },
  {
   "cell_type": "code",
   "execution_count": 4,
   "id": "c426920f",
   "metadata": {},
   "outputs": [],
   "source": [
    "def escape(old_x,new_x,TOL):\n",
    "    if np.max(np.abs(old_x - new_x)) < TOL:\n",
    "        return True,np.max(np.abs(old_x - new_x))\n",
    "    return False,np.max(np.abs(old_x - new_x))"
   ]
  },
  {
   "cell_type": "code",
   "execution_count": 5,
   "id": "cc182580",
   "metadata": {},
   "outputs": [],
   "source": [
    "def draw(loss,title=None):\n",
    "    ite = [i for i in range(1,len(loss)+1,1)]\n",
    "    fig = plt.figure(figsize = (15,8))\n",
    "    ax = fig.add_subplot(111)\n",
    "    if title is not None:\n",
    "        ax.set_title(title)\n",
    "    ax.xaxis.set_major_locator(MultipleLocator(1))\n",
    "    ax.yaxis.set_major_locator(MultipleLocator(0.1))\n",
    "    ax.plot(ite,loss,lw = 1,zorder = 10,label = 'norm')\n",
    "    ax.grid(linestyle=\"--\",linewidth = 0.5,zorder = 0)#pair0\n",
    "    ax.legend()"
   ]
  },
  {
   "cell_type": "code",
   "execution_count": 21,
   "id": "1141ce01",
   "metadata": {},
   "outputs": [],
   "source": [
    "Test_matrix = np.array(\n",
    "    [\n",
    "    [10,-1,2,0],\n",
    "    [-1,11,-1,3],\n",
    "    [2,-1,10,-1],\n",
    "    [0,3,-1,8]]\n",
    ")\n",
    "tb_matrix = np.array(\n",
    "    [6,25,-11,15]\n",
    ")"
   ]
  },
  {
   "cell_type": "markdown",
   "id": "fa4e74b7",
   "metadata": {},
   "source": [
    "# Jacobi Method"
   ]
  },
  {
   "cell_type": "code",
   "execution_count": 7,
   "id": "0decc508",
   "metadata": {},
   "outputs": [],
   "source": [
    "def Jacobin(A_matrix,B_matrix,test =False):\n",
    "    k = 1\n",
    "    n = A_matrix.shape[0]\n",
    "    loss = []\n",
    "    init_x = np.zeros_like(B_matrix,dtype=\"float64\")\n",
    "    x = copy.deepcopy(init_x)\n",
    "    while(k<N):\n",
    "        x_p = copy.deepcopy(x)\n",
    "        if test:\n",
    "            print(x)\n",
    "        for i in range(n):\n",
    "            summ = 0.0\n",
    "            for j in range(n):\n",
    "                if j==i:\n",
    "                    continue\n",
    "                summ += A_matrix[i][j]*x_p[j]\n",
    "            x[i] = (-summ + B_matrix[i])/A_matrix[i][i]\n",
    "        esp = escape(x_p,x,TOL)[0]\n",
    "        \n",
    "        loss.append(escape(x_p,x,TOL)[1])\n",
    "        if esp:\n",
    "            break\n",
    "        k+=1\n",
    "    return x,loss,k"
   ]
  },
  {
   "cell_type": "code",
   "execution_count": 9,
   "id": "e70f20cd-f851-4db7-a17f-396638f61928",
   "metadata": {},
   "outputs": [
    {
     "data": {
      "text/plain": [
       "array([ 1.00000014,  1.99999976, -0.99999982,  0.99999975])"
      ]
     },
     "execution_count": 9,
     "metadata": {},
     "output_type": "execute_result"
    }
   ],
   "source": [
    "Jacobin(Test_matrix,tb_matrix,False)[0]"
   ]
  },
  {
   "cell_type": "code",
   "execution_count": 10,
   "id": "22dc1a30",
   "metadata": {},
   "outputs": [
    {
     "name": "stdout",
     "output_type": "stream",
     "text": [
      "1000\n",
      "5\n",
      "[1.52965664 0.73303829 0.11780998 0.20943951 0.0935    ]\n",
      "17\n"
     ]
    },
    {
     "data": {
      "image/png": "[encoded data removed]",
      "text/plain": [
       "<Figure size 1080x576 with 1 Axes>"
      ]
     },
     "metadata": {
      "needs_background": "light"
     },
     "output_type": "display_data"
    }
   ],
   "source": [
    "x,loss,k = Jacobin(create_data(size)[0],create_data(size)[1])\n",
    "print(N)\n",
    "print(size)\n",
    "print(x)\n",
    "print(k)\n",
    "draw(loss,'Jacobi Method')"
   ]
  },
  {
   "cell_type": "markdown",
   "id": "a2348d07",
   "metadata": {},
   "source": [
    "# Gauss-Seidel Method"
   ]
  },
  {
   "cell_type": "code",
   "execution_count": 11,
   "id": "08eed3be",
   "metadata": {},
   "outputs": [],
   "source": [
    "def Gauss_Seidel(A_matrix,B_matrix,test=False):\n",
    "    k = 1\n",
    "    n = A_matrix.shape[0]\n",
    "    loss = []\n",
    "    init_x = np.zeros_like(B_matrix,dtype=\"float64\")\n",
    "    x = copy.deepcopy(init_x)\n",
    "    \n",
    "    while(k<N):\n",
    "        x_p = copy.deepcopy(x)\n",
    "        if test:\n",
    "            print(x)\n",
    "        for i in range(n):\n",
    "            summ = 0.0\n",
    "            for j in range(n):\n",
    "                if j==i:\n",
    "                    continue\n",
    "                summ += A_matrix[i][j] * x[j]\n",
    "                \n",
    "            x[i] = (-summ + B_matrix[i])/A_matrix[i][i]\n",
    "            \n",
    "        esp = escape(x_p,x,TOL)[0]\n",
    "        \n",
    "        loss.append(escape(x_p,x,TOL)[1])\n",
    "        if esp:\n",
    "            break\n",
    "        k+=1\n",
    "    return x,loss,k"
   ]
  },
  {
   "cell_type": "code",
   "execution_count": 23,
   "id": "e4a7c316-98ec-4ad8-8556-434c413f1bff",
   "metadata": {
    "tags": []
   },
   "outputs": [
    {
     "name": "stdout",
     "output_type": "stream",
     "text": [
      "[0. 0. 0. 0.]\n",
      "[ 0.6         2.32727273 -0.98727273  0.87886364]\n",
      "[ 1.03018182  2.03693802 -1.0144562   0.98434122]\n",
      "[ 1.00658504  2.00355502 -1.00252738  0.99835095]\n",
      "[ 1.00086098  2.00029825 -1.00030728  0.99984975]\n",
      "[ 1.00009128  2.00002134 -1.00003115  0.9999881 ]\n",
      "[ 1.00000836  2.00000117 -1.00000275  0.99999922]\n",
      "[ 1.00000067  2.00000002 -1.00000021  0.99999996]\n"
     ]
    },
    {
     "data": {
      "text/plain": [
       "array([ 1.00000004,  1.99999999, -1.00000001,  1.        ])"
      ]
     },
     "execution_count": 23,
     "metadata": {},
     "output_type": "execute_result"
    }
   ],
   "source": [
    "Gauss_Seidel(Test_matrix,tb_matrix,True)[0]"
   ]
  },
  {
   "cell_type": "code",
   "execution_count": 24,
   "id": "d0904ff0-ddb9-45c5-ae6f-bb4b7672320f",
   "metadata": {},
   "outputs": [
    {
     "name": "stdout",
     "output_type": "stream",
     "text": [
      "1000\n",
      "5\n",
      "[1.52965645 0.73303829 0.11780971 0.20943951 0.09349978]\n",
      "7\n"
     ]
    },
    {
     "data": {
      "image/png": "[encoded data removed]",
      "text/plain": [
       "<Figure size 1080x576 with 1 Axes>"
      ]
     },
     "metadata": {
      "needs_background": "light"
     },
     "output_type": "display_data"
    }
   ],
   "source": [
    "x,loss,k = Gauss_Seidel(create_data(size)[0],create_data(size)[1])\n",
    "print(N)\n",
    "print(size)\n",
    "print(x)\n",
    "print(k)\n",
    "draw(loss,'Gauss_Seidel')"
   ]
  },
  {
   "cell_type": "markdown",
   "id": "3a9df505",
   "metadata": {},
   "source": [
    "# Relaxdion Techniques  Method(SOR)"
   ]
  },
  {
   "cell_type": "code",
   "execution_count": 27,
   "id": "e0f62ca6",
   "metadata": {},
   "outputs": [],
   "source": [
    "Test_matrix = np.array(\n",
    "    [\n",
    "    [4,3,0],\n",
    "    [3,4,-1],\n",
    "    [0,-1,4]]\n",
    ")\n",
    "tb_matrix = np.array(\n",
    "    [24,30,-24]\n",
    ")"
   ]
  },
  {
   "cell_type": "code",
   "execution_count": 18,
   "id": "5100bb53",
   "metadata": {},
   "outputs": [],
   "source": [
    "def SOR(A_matrix,B_matrix,w = 1,test=False):\n",
    "    k = 1\n",
    "    n = A_matrix.shape[0]\n",
    "    loss = []\n",
    "    init_x = np.zeros_like(B_matrix,dtype=\"float64\")\n",
    "    x = copy.deepcopy(init_x)\n",
    "    \n",
    "    while(k<N):\n",
    "        x_p = copy.deepcopy(x)\n",
    "        if test:\n",
    "            print(x)\n",
    "        for i in range(n):\n",
    "            summ = 0.0\n",
    "            for j in range(n):\n",
    "                if j==i:\n",
    "                    continue\n",
    "                summ += A_matrix[i][j] * x[j]\n",
    "                \n",
    "            x[i] = (-summ + B_matrix[i])/A_matrix[i][i]\n",
    "            \n",
    "        esp = escape(x_p,x,TOL)[0]\n",
    "        \n",
    "        loss.append(escape(x_p,x,TOL)[1])\n",
    "        if esp:\n",
    "            break\n",
    "        k+=1\n",
    "    return x,loss,k"
   ]
  },
  {
   "cell_type": "code",
   "execution_count": 28,
   "id": "3c77ef35",
   "metadata": {},
   "outputs": [
    {
     "name": "stdout",
     "output_type": "stream",
     "text": [
      "[0. 0. 0.]\n",
      "[ 6.    3.   -5.25]\n",
      "[ 3.75     3.375   -5.15625]\n",
      "[ 3.46875     3.609375   -5.09765625]\n",
      "[ 3.29296875  3.75585938 -5.06103516]\n",
      "[ 3.18310547  3.84741211 -5.03814697]\n",
      "[ 3.11444092  3.90463257 -5.02384186]\n",
      "[ 3.07152557  3.94039536 -5.01490116]\n",
      "[ 3.04470348  3.9627471  -5.00931323]\n",
      "[ 3.02793968  3.97671694 -5.00582077]\n",
      "[ 3.0174623   3.98544808 -5.00363798]\n",
      "[ 3.01091394  3.99090505 -5.00227374]\n",
      "[ 3.00682121  3.99431566 -5.00142109]\n",
      "[ 3.00426326  3.99644729 -5.00088818]\n",
      "[ 3.00266454  3.99777955 -5.00055511]\n",
      "[ 3.00166533  3.99861222 -5.00034694]\n",
      "[ 3.00104083  3.99913264 -5.00021684]\n",
      "[ 3.00065052  3.9994579  -5.00013553]\n",
      "[ 3.00040658  3.99966119 -5.0000847 ]\n",
      "[ 3.00025411  3.99978824 -5.00005294]\n",
      "[ 3.00015882  3.99986765 -5.00003309]\n",
      "[ 3.00009926  3.99991728 -5.00002068]\n",
      "[ 3.00006204  3.9999483  -5.00001292]\n",
      "[ 3.00003877  3.99996769 -5.00000808]\n",
      "[ 3.00002423  3.99997981 -5.00000505]\n",
      "[ 3.00001515  3.99998738 -5.00000316]\n",
      "[ 3.00000947  3.99999211 -5.00000197]\n",
      "[ 3.00000592  3.99999507 -5.00000123]\n",
      "[ 3.0000037   3.99999692 -5.00000077]\n",
      "[ 3.00000231  3.99999807 -5.00000048]\n"
     ]
    },
    {
     "data": {
      "text/plain": [
       "(array([ 3.00000144,  3.9999988 , -5.0000003 ]),\n",
       " [6.0,\n",
       "  2.25,\n",
       "  0.28125,\n",
       "  0.17578125,\n",
       "  0.10986328125,\n",
       "  0.06866455078125,\n",
       "  0.04291534423828125,\n",
       "  0.02682209014892578,\n",
       "  0.016763806343078613,\n",
       "  0.010477378964424133,\n",
       "  0.006548361852765083,\n",
       "  0.004092726157978177,\n",
       "  0.0025579538487363607,\n",
       "  0.0015987211554602254,\n",
       "  0.0009992007221626409,\n",
       "  0.0006245004513516506,\n",
       "  0.0003903127820947816,\n",
       "  0.0002439454888092385,\n",
       "  0.00015246593050610713,\n",
       "  9.529120656592838e-05,\n",
       "  5.955700410398279e-05,\n",
       "  3.722312756471169e-05,\n",
       "  2.3264454728000317e-05,\n",
       "  1.454028420511122e-05,\n",
       "  9.087677627750423e-06,\n",
       "  5.679798517732593e-06,\n",
       "  3.549874073360826e-06,\n",
       "  2.218671296461139e-06,\n",
       "  1.386669559622078e-06,\n",
       "  8.666684747637987e-07],\n",
       " 30)"
      ]
     },
     "execution_count": 28,
     "metadata": {},
     "output_type": "execute_result"
    }
   ],
   "source": [
    "Gauss_Seidel(Test_matrix,tb_matrix,True)"
   ]
  },
  {
   "cell_type": "code",
   "execution_count": 19,
   "id": "96f25c7f",
   "metadata": {},
   "outputs": [
    {
     "name": "stdout",
     "output_type": "stream",
     "text": [
      "[1. 1. 1.]\n",
      "[ 5.25      3.8125   -5.046875]\n",
      "[ 3.140625    3.8828125  -5.02929688]\n",
      "[ 3.08789062  3.92675781 -5.01831055]\n",
      "[ 3.05493164  3.95422363 -5.01144409]\n",
      "[ 3.03433228  3.97138977 -5.00715256]\n",
      "[ 3.02145767  3.98211861 -5.00447035]\n",
      "[ 3.01341105  3.98882413 -5.00279397]\n",
      "[ 3.0083819   3.99301508 -5.00174623]\n",
      "[ 3.00523869  3.99563443 -5.00109139]\n",
      "[ 3.00327418  3.99727152 -5.00068212]\n",
      "[ 3.00204636  3.9982947  -5.00042633]\n",
      "[ 3.00127898  3.99893419 -5.00026645]\n",
      "[ 3.00079936  3.99933387 -5.00016653]\n",
      "[ 3.0004996   3.99958367 -5.00010408]\n",
      "[ 3.00031225  3.99973979 -5.00006505]\n",
      "[ 3.00019516  3.99983737 -5.00004066]\n",
      "[ 3.00012197  3.99989836 -5.00002541]\n",
      "[ 3.00007623  3.99993647 -5.00001588]\n",
      "[ 3.00004765  3.9999603  -5.00000993]\n",
      "[ 3.00002978  3.99997518 -5.0000062 ]\n",
      "[ 3.00001861  3.99998449 -5.00000388]\n",
      "[ 3.00001163  3.99999031 -5.00000242]\n",
      "[ 3.00000727  3.99999394 -5.00000151]\n",
      "[ 3.00000454  3.99999621 -5.00000095]\n",
      "[ 3.00000284  3.99999763 -5.00000059]\n",
      "[ 3.00000177  3.99999852 -5.00000037]\n"
     ]
    }
   ],
   "source": [
    "SOR(Test_matrix,tb_matrix,w = 1,test=True)"
   ]
  },
  {
   "cell_type": "markdown",
   "id": "02a07ab3",
   "metadata": {},
   "source": [
    "# Conjugate Gradient Method"
   ]
  },
  {
   "cell_type": "code",
   "execution_count": null,
   "id": "804b78a5",
   "metadata": {},
   "outputs": [],
   "source": [
    "\n"
   ]
  }
 ],
 "metadata": {
  "kernelspec": {
   "display_name": "Python 3 (ipykernel)",
   "language": "python",
   "name": "python3"
  },
  "language_info": {
   "codemirror_mode": {
    "name": "ipython",
    "version": 3
   },
   "file_extension": ".py",
   "mimetype": "text/x-python",
   "name": "python",
   "nbconvert_exporter": "python",
   "pygments_lexer": "ipython3",
   "version": "3.9.10"
  },
  "toc": {
   "base_numbering": 1,
   "nav_menu": {},
   "number_sections": true,
   "sideBar": true,
   "skip_h1_title": false,
   "title_cell": "Table of Contents",
   "title_sidebar": "Contents",
   "toc_cell": false,
   "toc_position": {
    "height": "calc(100% - 180px)",
    "left": "10px",
    "top": "150px",
    "width": "230.4px"
   },
   "toc_section_display": true,
   "toc_window_display": false
  }
 },
 "nbformat": 4,
 "nbformat_minor": 5
}

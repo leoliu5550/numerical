{
 "cells": [
  {
   "cell_type": "code",
   "execution_count": 15,
   "id": "5e2f669d",
   "metadata": {},
   "outputs": [],
   "source": [
    "import numpy as np\n",
    "import copy\n",
    "from decimal import Decimal"
   ]
  },
  {
   "cell_type": "markdown",
   "id": "0173b4a9",
   "metadata": {},
   "source": [
    "# Hyperparamete"
   ]
  },
  {
   "cell_type": "code",
   "execution_count": 2,
   "id": "f30564a8",
   "metadata": {},
   "outputs": [],
   "source": [
    "N = 4\n",
    "TOL = 10e-6\n",
    "init_x = np.zeros(N)"
   ]
  },
  {
   "cell_type": "markdown",
   "id": "b098e408",
   "metadata": {},
   "source": [
    "# Create Data"
   ]
  },
  {
   "cell_type": "code",
   "execution_count": 3,
   "id": "1dd3007c",
   "metadata": {},
   "outputs": [],
   "source": [
    "def create_data(N):\n",
    "    A_matrix = np.zeros((N,N))\n",
    "    for i in range(N):\n",
    "        for j in range(N):\n",
    "            if i == j:\n",
    "                A_matrix[i][j] = 2*(i+1)\n",
    "            if j == (i+2) or j == (i-2):\n",
    "                A_matrix[i][j] = 0.5*(i+1)\n",
    "            if j == (i+4) or j == (i-4):\n",
    "                A_matrix[i][j] = 0.25*(i+1)    \n",
    "                \n",
    "                \n",
    "    return A_matrix"
   ]
  },
  {
   "cell_type": "code",
   "execution_count": 10,
   "id": "c426920f",
   "metadata": {},
   "outputs": [],
   "source": [
    "def escape(old_x,new_x,TOL):\n",
    "    \n",
    "    if np.max(np.abs(old_x - new_x)) < TOL:\n",
    "        return True\n",
    "    return False"
   ]
  },
  {
   "cell_type": "code",
   "execution_count": 30,
   "id": "1141ce01",
   "metadata": {},
   "outputs": [],
   "source": [
    "Test_matrix = np.array(\n",
    "    [\n",
    "    [10,-1,2,0],\n",
    "    [-1,11,-1,3],\n",
    "    [2,-1,10,-1],\n",
    "    [0,3,-3,8]]\n",
    ")\n",
    "tb_matrix = np.array(\n",
    "    [6,25,-11,15]\n",
    ")"
   ]
  },
  {
   "cell_type": "markdown",
   "id": "fa4e74b7",
   "metadata": {},
   "source": [
    "# Jacobi Mrthod"
   ]
  },
  {
   "cell_type": "code",
   "execution_count": 61,
   "id": "0decc508",
   "metadata": {},
   "outputs": [
    {
     "name": "stdout",
     "output_type": "stream",
     "text": [
      "1\n",
      "x_p   [0. 0. 0. 0.]\n",
      "x     [ 0.6         2.32727273 -0.98727273  0.63204545]\n",
      "x_p-x [-0.6        -2.32727273  0.98727273 -0.63204545]\n",
      "2\n",
      "x_p   [ 0.6         2.32727273 -0.98727273  0.63204545]\n",
      "x     [ 1.03018182  2.10425207 -1.03240661  0.698753  ]\n",
      "x_p-x [-0.43018182  0.22302066  0.04513388 -0.06670754]\n",
      "3\n",
      "x_p   [ 1.03018182  2.10425207 -1.03240661  0.698753  ]\n",
      "x     [ 1.01690653  2.08074918 -1.02543109  0.7101824 ]\n",
      "x_p-x [ 0.01327529  0.02350289 -0.00697552 -0.01142941]\n",
      "4\n",
      "x_p   [ 1.01690653  2.08074918 -1.02543109  0.7101824 ]\n",
      "x     [ 1.01316114  2.07792571 -1.02382142  0.71184483]\n",
      "x_p-x [ 0.00374539  0.00282346 -0.00160967 -0.00166243]\n"
     ]
    }
   ],
   "source": [
    "x = copy.deepcopy(init_x)\n",
    "k = 1\n",
    "while k<= N:\n",
    "    x_p = copy.deepcopy(x)\n",
    "    for i in range(N):\n",
    "        \n",
    "        #sum\n",
    "        summ = 0\n",
    "        for j in range(N):\n",
    "            if j == i:\n",
    "                continue\n",
    "            summ += Test_matrix[i][j] * x[j] * (-1)\n",
    "        # set new x_i \n",
    "        x[i] = [summ + tb_matrix[i]]/Test_matrix[i][i]\n",
    "#     if escape(x_p,x,TOL):\n",
    "#         break\n",
    "    print(k)\n",
    "    print('x_p   {}'.format(x_p))\n",
    "    print('x     {}'.format(x))\n",
    "    print('x_p-x {}'.format(x_p-x))\n",
    "    k+=1"
   ]
  },
  {
   "cell_type": "code",
   "execution_count": 51,
   "id": "60e96a41",
   "metadata": {},
   "outputs": [
    {
     "data": {
      "text/plain": [
       "array([ 0.6       ,  2.32727273, -0.98727273,  0.63204545])"
      ]
     },
     "execution_count": 51,
     "metadata": {},
     "output_type": "execute_result"
    }
   ],
   "source": [
    "x_p"
   ]
  },
  {
   "cell_type": "code",
   "execution_count": 52,
   "id": "38adf980",
   "metadata": {},
   "outputs": [
    {
     "data": {
      "text/plain": [
       "array([ 0.6       ,  2.32727273, -0.98727273,  0.63204545])"
      ]
     },
     "execution_count": 52,
     "metadata": {},
     "output_type": "execute_result"
    }
   ],
   "source": [
    "x"
   ]
  },
  {
   "cell_type": "code",
   "execution_count": null,
   "id": "83b4c94f",
   "metadata": {},
   "outputs": [],
   "source": []
  }
 ],
 "metadata": {
  "kernelspec": {
   "display_name": "Python 3 (ipykernel)",
   "language": "python",
   "name": "python3"
  },
  "language_info": {
   "codemirror_mode": {
    "name": "ipython",
    "version": 3
   },
   "file_extension": ".py",
   "mimetype": "text/x-python",
   "name": "python",
   "nbconvert_exporter": "python",
   "pygments_lexer": "ipython3",
   "version": "3.9.10"
  },
  "toc": {
   "base_numbering": 1,
   "nav_menu": {},
   "number_sections": true,
   "sideBar": true,
   "skip_h1_title": false,
   "title_cell": "Table of Contents",
   "title_sidebar": "Contents",
   "toc_cell": false,
   "toc_position": {},
   "toc_section_display": true,
   "toc_window_display": false
  }
 },
 "nbformat": 4,
 "nbformat_minor": 5
}

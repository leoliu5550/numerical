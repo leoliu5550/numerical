{
 "cells": [
  {
   "cell_type": "code",
   "execution_count": 4,
   "id": "c4e2604c",
   "metadata": {},
   "outputs": [],
   "source": [
    "import numpy as np\n",
    "import matplotlib.pyplot as plt\n",
    "%matplotlib inline"
   ]
  },
  {
   "cell_type": "markdown",
   "id": "2ee22e01",
   "metadata": {},
   "source": [
    "# system of equations in two variables"
   ]
  },
  {
   "cell_type": "markdown",
   "id": "b2b47131",
   "metadata": {},
   "source": [
    "$\n",
    "\\left\\{\n",
    "    \\begin{matrix}\n",
    "        3x &+ &2y  &=& 13\\\\\n",
    "        x &- &3y &=& -3\n",
    "    \\end{matrix}\n",
    "\\right.\n",
    "$"
   ]
  },
  {
   "cell_type": "code",
   "execution_count": null,
   "id": "3d4781e1",
   "metadata": {},
   "outputs": [],
   "source": []
  }
 ],
 "metadata": {
  "kernelspec": {
   "display_name": "Python 3 (ipykernel)",
   "language": "python",
   "name": "python3"
  },
  "language_info": {
   "codemirror_mode": {
    "name": "ipython",
    "version": 3
   },
   "file_extension": ".py",
   "mimetype": "text/x-python",
   "name": "python",
   "nbconvert_exporter": "python",
   "pygments_lexer": "ipython3",
   "version": "3.9.13"
  }
 },
 "nbformat": 4,
 "nbformat_minor": 5
}

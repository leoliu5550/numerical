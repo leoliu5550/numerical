{
 "cells": [
  {
   "cell_type": "code",
   "execution_count": 73,
   "id": "c03592b2",
   "metadata": {},
   "outputs": [],
   "source": [
    "import numpy as np\n",
    "import copy\n",
    "import matplotlib.pyplot as plt\n",
    "%matplotlib inline"
   ]
  },
  {
   "cell_type": "markdown",
   "id": "840cd43c",
   "metadata": {},
   "source": [
    "# create A matrix"
   ]
  },
  {
   "cell_type": "code",
   "execution_count": 150,
   "id": "c09b197c",
   "metadata": {},
   "outputs": [],
   "source": [
    "# Hyperparameter\n",
    "N = 9\n",
    "A_matrix  = np.zeros([N,N])\n",
    "init_x = np.ones(N)\n",
    "tolerance = 10**(-3)\n",
    "b_vector = np.array([np.pi for i in range(N)])"
   ]
  },
  {
   "cell_type": "code",
   "execution_count": 151,
   "id": "d654861a",
   "metadata": {},
   "outputs": [],
   "source": [
    "for i in range(N):\n",
    "    for j in range(N):\n",
    "        if i == j:\n",
    "            A_matrix[i][j] = 2*(i+1)\n",
    "        if (j == i+2) or (j == i-2):\n",
    "            A_matrix[i][j] = 0.5*(i+1)\n",
    "        if (j == i+4) or (j == i-4):\n",
    "            A_matrix[i][j] = 0.25*(i+1)"
   ]
  },
  {
   "cell_type": "code",
   "execution_count": 152,
   "id": "3c988cc4",
   "metadata": {},
   "outputs": [
    {
     "data": {
      "text/plain": [
       "array([[ 2.  ,  0.  ,  0.5 ,  0.  ,  0.25,  0.  ,  0.  ,  0.  ,  0.  ],\n",
       "       [ 0.  ,  4.  ,  0.  ,  1.  ,  0.  ,  0.5 ,  0.  ,  0.  ,  0.  ],\n",
       "       [ 1.5 ,  0.  ,  6.  ,  0.  ,  1.5 ,  0.  ,  0.75,  0.  ,  0.  ],\n",
       "       [ 0.  ,  2.  ,  0.  ,  8.  ,  0.  ,  2.  ,  0.  ,  1.  ,  0.  ],\n",
       "       [ 1.25,  0.  ,  2.5 ,  0.  , 10.  ,  0.  ,  2.5 ,  0.  ,  1.25],\n",
       "       [ 0.  ,  1.5 ,  0.  ,  3.  ,  0.  , 12.  ,  0.  ,  3.  ,  0.  ],\n",
       "       [ 0.  ,  0.  ,  1.75,  0.  ,  3.5 ,  0.  , 14.  ,  0.  ,  3.5 ],\n",
       "       [ 0.  ,  0.  ,  0.  ,  2.  ,  0.  ,  4.  ,  0.  , 16.  ,  0.  ],\n",
       "       [ 0.  ,  0.  ,  0.  ,  0.  ,  2.25,  0.  ,  4.5 ,  0.  , 18.  ]])"
      ]
     },
     "execution_count": 152,
     "metadata": {},
     "output_type": "execute_result"
    }
   ],
   "source": [
    "A_matrix"
   ]
  },
  {
   "cell_type": "code",
   "execution_count": 153,
   "id": "4d4bf6df",
   "metadata": {
    "scrolled": true
   },
   "outputs": [
    {
     "data": {
      "text/plain": [
       "array([3.14159265, 3.14159265, 3.14159265, 3.14159265, 3.14159265,\n",
       "       3.14159265, 3.14159265, 3.14159265, 3.14159265])"
      ]
     },
     "execution_count": 153,
     "metadata": {},
     "output_type": "execute_result"
    }
   ],
   "source": [
    "b_vector"
   ]
  },
  {
   "cell_type": "code",
   "execution_count": 154,
   "id": "63e72d0f",
   "metadata": {},
   "outputs": [],
   "source": [
    "def infnorm(x):\n",
    "    return np.max(np.abs(x)) "
   ]
  },
  {
   "cell_type": "markdown",
   "id": "5623b9b5",
   "metadata": {},
   "source": [
    "# SOR method - Jacobi_Iterative_Method"
   ]
  },
  {
   "cell_type": "code",
   "execution_count": 159,
   "id": "e5eb9be3",
   "metadata": {},
   "outputs": [],
   "source": [
    "# 2x + y  = 11\n",
    "# x - y = 1\n",
    "# x =4 , y =3\n",
    "init_x = np.array([0,0])\n",
    "A_matrix = np.array([[2,1],[1,-1]])\n",
    "b_vector = np.array([11,1])\n",
    "tolerance = 10**(-3)\n",
    "N = 2"
   ]
  },
  {
   "cell_type": "code",
   "execution_count": 165,
   "id": "e5d89ab9",
   "metadata": {},
   "outputs": [
    {
     "data": {
      "text/plain": [
       "array([[ 2,  1],\n",
       "       [ 1, -1]])"
      ]
     },
     "execution_count": 165,
     "metadata": {},
     "output_type": "execute_result"
    }
   ],
   "source": [
    "A_matrix"
   ]
  },
  {
   "cell_type": "code",
   "execution_count": 168,
   "id": "80c5a44e",
   "metadata": {},
   "outputs": [
    {
     "name": "stdout",
     "output_type": "stream",
     "text": [
      "9 0 0\n",
      "2\n",
      "8 0 1\n",
      "1\n",
      "[5 0]\n"
     ]
    }
   ],
   "source": [
    "def Jacobi(N,A_matrix,init_x,b_vector,tolerance):\n",
    "    k = 1\n",
    "    while k<=N:\n",
    "        x = init_x\n",
    "        for i in range(len(x)): # col_x\n",
    "            temp = 0\n",
    "            # 處理sum\n",
    "            for j in range(len(x)): # row_x\n",
    "                if i == j:\n",
    "                    print(9,i,j)\n",
    "                    print(A_matrix[i][j])\n",
    "                    continue\n",
    "                else:\n",
    "                    print(8,i,j)\n",
    "                    print(A_matrix[i][j])\n",
    "                    temp += (-1)*A_matrix[i][j]*x[j]\n",
    "                    \n",
    "                    \n",
    "            temp += b_vector[i]\n",
    "            x[i] = temp/A_matrix[i][i]\n",
    "            \n",
    "            if infnorm(x - init_x)<=tolerance:\n",
    "                return x\n",
    "            init_x[i] =x[i]\n",
    "        k+=1\n",
    "    return x\n",
    "\n",
    "print(Jacobi(N,A_matrix,init_x,b_vector,tolerance))"
   ]
  },
  {
   "cell_type": "markdown",
   "id": "30168f57",
   "metadata": {},
   "source": [
    "# SOR method - Gauss-Seidel Method"
   ]
  },
  {
   "cell_type": "code",
   "execution_count": 130,
   "id": "ebe5f78e",
   "metadata": {},
   "outputs": [],
   "source": [
    "x = np.array([1,2,3,4,5,6])\n",
    "x = x.reshape(2,3)"
   ]
  },
  {
   "cell_type": "code",
   "execution_count": 131,
   "id": "57b59a45",
   "metadata": {},
   "outputs": [
    {
     "data": {
      "text/plain": [
       "array([[1, 2, 3],\n",
       "       [4, 5, 6]])"
      ]
     },
     "execution_count": 131,
     "metadata": {},
     "output_type": "execute_result"
    }
   ],
   "source": [
    "x"
   ]
  },
  {
   "cell_type": "code",
   "execution_count": 133,
   "id": "66a4b7f4",
   "metadata": {},
   "outputs": [
    {
     "data": {
      "text/plain": [
       "3"
      ]
     },
     "execution_count": 133,
     "metadata": {},
     "output_type": "execute_result"
    }
   ],
   "source": [
    "x[0][2]"
   ]
  },
  {
   "cell_type": "code",
   "execution_count": null,
   "id": "5f6c7307",
   "metadata": {},
   "outputs": [],
   "source": []
  }
 ],
 "metadata": {
  "kernelspec": {
   "display_name": "Python 3 (ipykernel)",
   "language": "python",
   "name": "python3"
  },
  "language_info": {
   "codemirror_mode": {
    "name": "ipython",
    "version": 3
   },
   "file_extension": ".py",
   "mimetype": "text/x-python",
   "name": "python",
   "nbconvert_exporter": "python",
   "pygments_lexer": "ipython3",
   "version": "3.9.10"
  },
  "toc": {
   "base_numbering": 1,
   "nav_menu": {},
   "number_sections": true,
   "sideBar": true,
   "skip_h1_title": false,
   "title_cell": "Table of Contents",
   "title_sidebar": "Contents",
   "toc_cell": false,
   "toc_position": {},
   "toc_section_display": true,
   "toc_window_display": false
  }
 },
 "nbformat": 4,
 "nbformat_minor": 5
}
